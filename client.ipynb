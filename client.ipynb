{
 "cells": [
  {
   "cell_type": "markdown",
   "id": "e13ed1c4",
   "metadata": {
    "pycharm": {
     "name": "#%% md\n"
    }
   },
   "source": [
    "<p align=\"center\">\n",
    "<a href=\"https://github.com/jina-ai/dalle\"><img src=\"https://res.cloudinary.com/startup-grind/image/upload/c_fill,dpr_2.0,f_auto,g_xy_center,h_650,q_auto:good,w_1440,x_w_mul_0.5,y_h_mul_0.0/v1/gcs/platform-data-dsc/event_banners/banner_8XSoAdr.png?md\" alt=\"DALL·E Flow: A Human-in-the-Loop workflow for creating HD images from text\" width=\"60%\"></a>\n",
    "<br>\n",
    "</p>\n",
    "\n",
    "\n",
    "<b>A Human-in-the-Loop<sup><a href=\"https://en.wikipedia.org/wiki/Human-in-the-loop\">?</a></sup> workflow for creating HD images from text</b>\n",
    "\n",
    "**🎓 TUM Workshop version**"
   ]
  },
  {
   "cell_type": "markdown",
   "id": "0836667a",
   "metadata": {
    "pycharm": {
     "name": "#%% md\n"
    }
   },
   "source": [
    "[![GitHub Repo stars](https://img.shields.io/github/stars/jina-ai/dalle-flow?style=social)](https://github.com/jina-ai/dalle-flow) [![Google Colab](https://img.shields.io/badge/Slack-2.8k-blueviolet?logo=slack&amp;logoColor=white&style=flat-square)](https://slack.jina.ai) [![GitHub last commit (branch)](https://img.shields.io/github/last-commit/jina-ai/dalle-flow/main)](https://colab.research.google.com/github/jina-ai/dalle-flow/blob/main/client.ipynb)"
   ]
  },
  {
   "cell_type": "markdown",
   "id": "e6af8cfd",
   "metadata": {
    "pycharm": {
     "name": "#%% md\n"
    }
   },
   "source": [
    "Using client is super easy. The following steps are best run in Jupyter notebook or [Google Colab](https://colab.research.google.com/github/jina-ai/dalle-flow/blob/tum-workshop/client.ipynb).  \n",
    "\n",
    "The only dependency you will need are [DocArray](https://github.com/jina-ai/docarray) and [Jina](https://github.com/jina-ai/jina), as DocArray is already included in Jina you only need to install `jina`\n",
    "\n",
    "> 💁‍♂️ On Google Colab, you will need to restart the kernel after the install."
   ]
  },
  {
   "cell_type": "code",
   "execution_count": null,
   "id": "c95e266f",
   "metadata": {
    "pycharm": {
     "name": "#%%\n"
    }
   },
   "outputs": [],
   "source": [
    "!pip install jina"
   ]
  },
  {
   "cell_type": "markdown",
   "id": "3059e59c",
   "metadata": {
    "pycharm": {
     "name": "#%%\n"
    }
   },
   "source": [
    "We have provided a demo server for you to play:"
   ]
  },
  {
   "cell_type": "code",
   "execution_count": null,
   "id": "3f1bb189",
   "metadata": {
    "pycharm": {
     "name": "#%%\n"
    }
   },
   "outputs": [],
   "source": [
    "server_url = 'grpc://tum-workshop.jina.ai:51005'"
   ]
  },
  {
   "cell_type": "markdown",
   "id": "72aacbed",
   "metadata": {
    "pycharm": {
     "name": "#%% md\n"
    }
   },
   "source": [
    "### Step 1: Generate via DALL·E Mega + GLIDE 3\n",
    "\n",
    "Now let's define the prompt:"
   ]
  },
  {
   "cell_type": "code",
   "execution_count": null,
   "id": "ac1ec094",
   "metadata": {
    "pycharm": {
     "name": "#%%\n"
    }
   },
   "outputs": [],
   "source": [
    "prompt = 'an oil painting of a humanoid robot playing chess in the style of Matisse'"
   ]
  },
  {
   "cell_type": "markdown",
   "id": "285ffe8c",
   "metadata": {},
   "source": [
    "**🎓 TUM Workshop**: do you need some hints and suggestions on the prompt? Check out those tricks:\n",
    " - [A Guide to Writing Prompts for Text-to-image AI](https://docs.google.com/document/d/17VPu3U2qXthOpt2zWczFvf-AH6z37hxUbvEe1rJTsEc/edit?usp=sharing)\n",
    " - [CLIP Templates](https://docs.google.com/document/d/1j2IAumYz4iZopOTAAOcCUKbFXP0jHK8mRgD4NLFKkaw/edit?usp=sharing)"
   ]
  },
  {
   "cell_type": "markdown",
   "id": "69d0b10b",
   "metadata": {
    "pycharm": {
     "name": "#%% md\n"
    }
   },
   "source": [
    "Let's submit it to the server and visualize the results:"
   ]
  },
  {
   "cell_type": "code",
   "execution_count": null,
   "id": "da672930",
   "metadata": {
    "pycharm": {
     "name": "#%%\n"
    }
   },
   "outputs": [],
   "source": [
    "%%time\n",
    "\n",
    "from docarray import Document\n",
    "\n",
    "da = Document(text=prompt).post(server_url, parameters={'num_images': 8}).matches\n",
    "\n",
    "da.plot_image_sprites(fig_size=(10,10), show_index=True)"
   ]
  },
  {
   "cell_type": "markdown",
   "id": "9298f59f",
   "metadata": {
    "pycharm": {
     "name": "#%% md\n"
    }
   },
   "source": [
    "Here we generate 16 candidates, 8 from DALLE-mega (upper) and 8 from GLIDE3 XL (lower), this is as defined in `num_images`, which takes about ~2 minutes. You can use a smaller value if it is too long for you."
   ]
  },
  {
   "cell_type": "markdown",
   "id": "3bf3a62b",
   "metadata": {
    "pycharm": {
     "name": "#%% md\n"
    }
   },
   "source": [
    "### Step 2: Select and refinement via GLIDE 3\n",
    "\n",
    "Of course, you may think differently. Notice the number in the top-left corner? Select the one you like the most and get a better view:"
   ]
  },
  {
   "cell_type": "code",
   "execution_count": null,
   "id": "8e106718",
   "metadata": {
    "pycharm": {
     "name": "#%%\n"
    }
   },
   "outputs": [],
   "source": [
    "fav_id = 3\n",
    "\n",
    "fav = da[fav_id]\n",
    "\n",
    "fav.display()"
   ]
  },
  {
   "cell_type": "markdown",
   "id": "eec3e4ea",
   "metadata": {
    "pycharm": {
     "name": "#%% md\n"
    }
   },
   "source": [
    "Now let's submit the selected candidates to the server for diffusion."
   ]
  },
  {
   "cell_type": "code",
   "execution_count": null,
   "id": "13cf87ce",
   "metadata": {
    "pycharm": {
     "name": "#%%\n"
    }
   },
   "outputs": [],
   "source": [
    "%%time\n",
    "\n",
    "diffused = fav.post(f'{server_url}', parameters={'skip_rate': 0.6, 'num_images': 9}, target_executor='diffusion').matches\n",
    "\n",
    "diffused.plot_image_sprites(fig_size=(10,10), show_index=True)"
   ]
  },
  {
   "cell_type": "markdown",
   "id": "fbb54ed9",
   "metadata": {
    "pycharm": {
     "name": "#%% md\n"
    }
   },
   "source": [
    "This will give 9 images based on the given image. You may allow the model to improvise more by giving `skip_rate` a near-zero value, or a near-one value to force its closeness to the given image. The whole procedure takes about ~1 minutes.\n"
   ]
  },
  {
   "cell_type": "markdown",
   "id": "978ccf66",
   "metadata": {
    "pycharm": {
     "name": "#%% md\n"
    }
   },
   "source": [
    "### Step 3: Select and upscale via SwinIR\n",
    "\n",
    "Select the image you like the most, and give it a closer look:\n"
   ]
  },
  {
   "cell_type": "code",
   "execution_count": null,
   "id": "7f00f44e",
   "metadata": {
    "pycharm": {
     "name": "#%%\n"
    }
   },
   "outputs": [],
   "source": [
    "dfav_id = 2\n",
    "\n",
    "fav = diffused[dfav_id]\n",
    "\n",
    "fav.display()"
   ]
  },
  {
   "cell_type": "markdown",
   "id": "ab54a790",
   "metadata": {
    "pycharm": {
     "name": "#%% md\n"
    }
   },
   "source": [
    "Finally, submit to the server for the last step: upscaling to 1024 x 1024px.\n",
    "\n",
    "> 💁‍♂️ This step will take ~30s."
   ]
  },
  {
   "cell_type": "code",
   "execution_count": null,
   "id": "b60e8bfc",
   "metadata": {
    "pycharm": {
     "name": "#%%\n"
    }
   },
   "outputs": [],
   "source": [
    "%%time\n",
    "\n",
    "fav = fav.post(f'{server_url}/upscale')\n",
    "fav.display()"
   ]
  },
  {
   "cell_type": "markdown",
   "id": "6853538c",
   "metadata": {
    "pycharm": {
     "name": "#%%\n"
    }
   },
   "source": [
    "> 💁‍♂️ On Google colab this image may render exactly the same size as before. But it is in 1024x1024 already. Right click on the image and copy/save it. You will see.\n",
    "\n",
    "That's it! It is _the one_. If not satisfied, please repeat the procedure. Btw, DocArray is a powerful and easy-to-use data structure for unstructured data. It is super productive for data scientists who work in cross-/multi-modal domain. To learn more about DocArray, [please check out the docs](https://docarray.jina.ai)."
   ]
  },
  {
   "cell_type": "markdown",
   "id": "7ca0c28a",
   "metadata": {},
   "source": [
    "**🎓 TUM Workshop**: After this step, your artwork is automatically uploaded to our contest board! Heads up and look at the big screen, or find all artworks at here: http://tum-workshop.jina.ai:3001"
   ]
  },
  {
   "cell_type": "code",
   "execution_count": null,
   "id": "e7f45b36",
   "metadata": {},
   "outputs": [],
   "source": []
  }
 ],
 "metadata": {
  "kernelspec": {
   "display_name": "Python 3 (ipykernel)",
   "language": "python",
   "name": "python3"
  },
  "language_info": {
   "codemirror_mode": {
    "name": "ipython",
    "version": 3
   },
   "file_extension": ".py",
   "mimetype": "text/x-python",
   "name": "python",
   "nbconvert_exporter": "python",
   "pygments_lexer": "ipython3",
   "version": "3.7.9"
  }
 },
 "nbformat": 4,
 "nbformat_minor": 5
}
